{
 "cells": [
  {
   "cell_type": "code",
   "execution_count": 53,
   "id": "57fb832b",
   "metadata": {},
   "outputs": [
    {
     "name": "stdout",
     "output_type": "stream",
     "text": [
      "The autoreload extension is already loaded. To reload it, use:\n",
      "  %reload_ext autoreload\n"
     ]
    }
   ],
   "source": [
    "%load_ext autoreload\n",
    "%autoreload 2"
   ]
  },
  {
   "cell_type": "code",
   "execution_count": 20,
   "id": "4b0781b1",
   "metadata": {},
   "outputs": [],
   "source": [
    "import pandas as pd\n",
    "import numpy as np\n",
    "import os\n",
    "import dermaflow.logic.preprocessing as pr\n",
    "from dermaflow.params import *\n",
    "from keras import Model, Sequential, layers\n",
    "from keras.callbacks import EarlyStopping\n",
    "import tensorflow as tf\n",
    "from dermaflow.logic.preprocessing import data_augmentation\n",
    "import dermaflow.logic.model as md"
   ]
  },
  {
   "attachments": {},
   "cell_type": "markdown",
   "id": "f9638f34",
   "metadata": {},
   "source": []
  },
  {
   "cell_type": "code",
   "execution_count": 21,
   "id": "d0de9b2a",
   "metadata": {},
   "outputs": [],
   "source": [
    "#url_file_name=\"https://storage.googleapis.com/derma-data/raw_data/archive.zip\"\n",
    "#parent_path=pr.initialize_dataset_from_file(url_file_name,extract=True,archive_format='zip')\n",
    "parent_path='../../../.keras/datasets'"
   ]
  },
  {
   "cell_type": "code",
   "execution_count": 22,
   "id": "b03c21ba",
   "metadata": {},
   "outputs": [],
   "source": [
    "import tensorflow as tf"
   ]
  },
  {
   "cell_type": "code",
   "execution_count": 35,
   "id": "5b68b3fb",
   "metadata": {},
   "outputs": [],
   "source": [
    "def get_split_image_data(parent_path, child_path, img_height:int, img_width:int,batch_size:int=os.getenv('BATCH_SIZE') ):\n",
    "    \"\"\"\n",
    "    get from targeted tensor path and return all existing files\n",
    "    \"\"\"\n",
    "    path=os.path.join(parent_path + f'/{child_path}')\n",
    "    bloc = tf.keras.utils.image_dataset_from_directory(\n",
    "    path,\n",
    "    image_size=(img_height, img_width),\n",
    "    batch_size=batch_size)\n",
    "\n",
    "    return bloc"
   ]
  },
  {
   "cell_type": "code",
   "execution_count": 23,
   "id": "0ab6e305",
   "metadata": {},
   "outputs": [],
   "source": [
    "img_height=IMAGE_HEIGHT\n",
    "img_width=IMAGE_WIDTH\n",
    "batch_size=BATCH_SIZE"
   ]
  },
  {
   "cell_type": "code",
   "execution_count": 37,
   "id": "ae0d12a3",
   "metadata": {},
   "outputs": [
    {
     "name": "stdout",
     "output_type": "stream",
     "text": [
      "Found 20179 files belonging to 8 classes.\n"
     ]
    }
   ],
   "source": [
    "bloc = tf.keras.utils.image_dataset_from_directory('/home/salah/.keras/datasets/data/train', image_size=(img_height, img_width))"
   ]
  },
  {
   "cell_type": "code",
   "execution_count": 24,
   "id": "b392cd4f",
   "metadata": {},
   "outputs": [
    {
     "name": "stdout",
     "output_type": "stream",
     "text": [
      "Found 20179 files belonging to 8 classes.\n",
      "Found 2606 files belonging to 8 classes.\n",
      "Found 2546 files belonging to 8 classes.\n"
     ]
    }
   ],
   "source": [
    "child_path='data/train'\n",
    "train_ds=pr.get_split_image_data(parent_path, child_path, img_height, img_width,batch_size )\n",
    "child_path='data/test'\n",
    "test_ds=pr.get_split_image_data(parent_path, child_path, img_height, img_width,batch_size )\n",
    "child_path='data/valid'\n",
    "val_ds=pr.get_split_image_data(parent_path, child_path, img_height, img_width,batch_size )"
   ]
  },
  {
   "cell_type": "code",
   "execution_count": 25,
   "id": "b362fae2",
   "metadata": {},
   "outputs": [
    {
     "name": "stdout",
     "output_type": "stream",
     "text": [
      "WARNING:tensorflow:Using a while_loop for converting RngReadAndSkip cause there is no registered converter for this op.\n",
      "WARNING:tensorflow:Using a while_loop for converting Bitcast cause there is no registered converter for this op.\n",
      "WARNING:tensorflow:Using a while_loop for converting Bitcast cause there is no registered converter for this op.\n",
      "WARNING:tensorflow:Using a while_loop for converting StatelessRandomUniformV2 cause there is no registered converter for this op.\n",
      "WARNING:tensorflow:Using a while_loop for converting ImageProjectiveTransformV3 cause there is no registered converter for this op.\n",
      "WARNING:tensorflow:Using a while_loop for converting RngReadAndSkip cause there is no registered converter for this op.\n",
      "WARNING:tensorflow:Using a while_loop for converting Bitcast cause there is no registered converter for this op.\n",
      "WARNING:tensorflow:Using a while_loop for converting Bitcast cause there is no registered converter for this op.\n",
      "WARNING:tensorflow:Using a while_loop for converting StatelessRandomUniformV2 cause there is no registered converter for this op.\n",
      "WARNING:tensorflow:Using a while_loop for converting ImageProjectiveTransformV3 cause there is no registered converter for this op.\n",
      "WARNING:tensorflow:Using a while_loop for converting RngReadAndSkip cause there is no registered converter for this op.\n",
      "WARNING:tensorflow:Using a while_loop for converting Bitcast cause there is no registered converter for this op.\n",
      "WARNING:tensorflow:Using a while_loop for converting Bitcast cause there is no registered converter for this op.\n",
      "WARNING:tensorflow:Using a while_loop for converting StatelessRandomUniformV2 cause there is no registered converter for this op.\n",
      "WARNING:tensorflow:Using a while_loop for converting ImageProjectiveTransformV3 cause there is no registered converter for this op.\n",
      "WARNING:tensorflow:Using a while_loop for converting RngReadAndSkip cause there is no registered converter for this op.\n",
      "WARNING:tensorflow:Using a while_loop for converting Bitcast cause there is no registered converter for this op.\n",
      "WARNING:tensorflow:Using a while_loop for converting Bitcast cause there is no registered converter for this op.\n",
      "WARNING:tensorflow:Using a while_loop for converting StatelessRandomUniformV2 cause there is no registered converter for this op.\n",
      "WARNING:tensorflow:Using a while_loop for converting ImageProjectiveTransformV3 cause there is no registered converter for this op.\n",
      "✅ Model initialized\n"
     ]
    }
   ],
   "source": [
    "num_classes=len(train_ds.class_names)\n",
    "kernel_size=3\n",
    "val_dropout=0.2\n",
    "model=md.initialize_model(num_classes, kernel_size, val_dropout)"
   ]
  },
  {
   "cell_type": "code",
   "execution_count": 26,
   "id": "d1700cd7",
   "metadata": {},
   "outputs": [
    {
     "name": "stdout",
     "output_type": "stream",
     "text": [
      "✅ Model compiled\n"
     ]
    }
   ],
   "source": [
    "model=md.compile_model(model)"
   ]
  },
  {
   "cell_type": "code",
   "execution_count": 27,
   "id": "e6fbc102",
   "metadata": {},
   "outputs": [
    {
     "name": "stdout",
     "output_type": "stream",
     "text": [
      "Epoch 1/20\n",
      "WARNING:tensorflow:Using a while_loop for converting RngReadAndSkip cause there is no registered converter for this op.\n",
      "WARNING:tensorflow:Using a while_loop for converting Bitcast cause there is no registered converter for this op.\n",
      "WARNING:tensorflow:Using a while_loop for converting Bitcast cause there is no registered converter for this op.\n",
      "WARNING:tensorflow:Using a while_loop for converting StatelessRandomUniformV2 cause there is no registered converter for this op.\n",
      "WARNING:tensorflow:Using a while_loop for converting ImageProjectiveTransformV3 cause there is no registered converter for this op.\n",
      "WARNING:tensorflow:Using a while_loop for converting RngReadAndSkip cause there is no registered converter for this op.\n",
      "WARNING:tensorflow:Using a while_loop for converting Bitcast cause there is no registered converter for this op.\n",
      "WARNING:tensorflow:Using a while_loop for converting Bitcast cause there is no registered converter for this op.\n",
      "WARNING:tensorflow:Using a while_loop for converting StatelessRandomUniformV2 cause there is no registered converter for this op.\n",
      "WARNING:tensorflow:Using a while_loop for converting ImageProjectiveTransformV3 cause there is no registered converter for this op.\n"
     ]
    },
    {
     "name": "stderr",
     "output_type": "stream",
     "text": [
      "/home/salah/.pyenv/versions/3.10.6/envs/dermasaaj/lib/python3.10/site-packages/keras/backend.py:5582: UserWarning: \"`sparse_categorical_crossentropy` received `from_logits=True`, but the `output` argument was produced by a Softmax activation and thus does not represent logits. Was this intended?\n",
      "  output, from_logits = _get_logits(\n"
     ]
    },
    {
     "name": "stdout",
     "output_type": "stream",
     "text": [
      "WARNING:tensorflow:Using a while_loop for converting RngReadAndSkip cause there is no registered converter for this op.\n",
      "WARNING:tensorflow:Using a while_loop for converting Bitcast cause there is no registered converter for this op.\n",
      "WARNING:tensorflow:Using a while_loop for converting Bitcast cause there is no registered converter for this op.\n",
      "WARNING:tensorflow:Using a while_loop for converting StatelessRandomUniformV2 cause there is no registered converter for this op.\n",
      "WARNING:tensorflow:Using a while_loop for converting ImageProjectiveTransformV3 cause there is no registered converter for this op.\n",
      "WARNING:tensorflow:Using a while_loop for converting RngReadAndSkip cause there is no registered converter for this op.\n",
      "WARNING:tensorflow:Using a while_loop for converting Bitcast cause there is no registered converter for this op.\n",
      "WARNING:tensorflow:Using a while_loop for converting Bitcast cause there is no registered converter for this op.\n",
      "WARNING:tensorflow:Using a while_loop for converting StatelessRandomUniformV2 cause there is no registered converter for this op.\n",
      "WARNING:tensorflow:Using a while_loop for converting ImageProjectiveTransformV3 cause there is no registered converter for this op.\n",
      "1262/1262 [==============================] - 278s 218ms/step - loss: 1.4978 - accuracy: 0.5253 - val_loss: 1.2869 - val_accuracy: 0.5511\n",
      "Epoch 2/20\n",
      "1262/1262 [==============================] - 245s 194ms/step - loss: 1.2530 - accuracy: 0.5463 - val_loss: 1.2757 - val_accuracy: 0.5318\n",
      "Epoch 3/20\n",
      "1262/1262 [==============================] - 233s 184ms/step - loss: 1.2380 - accuracy: 0.5481 - val_loss: 1.2317 - val_accuracy: 0.5389\n",
      "Epoch 4/20\n",
      "1262/1262 [==============================] - 233s 184ms/step - loss: 1.2131 - accuracy: 0.5524 - val_loss: 1.2108 - val_accuracy: 0.5570\n",
      "Epoch 5/20\n",
      "1262/1262 [==============================] - 266s 210ms/step - loss: 1.1933 - accuracy: 0.5625 - val_loss: 1.1958 - val_accuracy: 0.5640\n",
      "Epoch 6/20\n",
      "1262/1262 [==============================] - 234s 185ms/step - loss: 1.1851 - accuracy: 0.5622 - val_loss: 1.1936 - val_accuracy: 0.5617\n",
      "Epoch 7/20\n",
      "1262/1262 [==============================] - 231s 183ms/step - loss: 1.1762 - accuracy: 0.5648 - val_loss: 1.1700 - val_accuracy: 0.5660\n",
      "Epoch 8/20\n",
      "1262/1262 [==============================] - 223s 177ms/step - loss: 1.1620 - accuracy: 0.5703 - val_loss: 1.1698 - val_accuracy: 0.5687\n",
      "Epoch 9/20\n",
      "1262/1262 [==============================] - 257s 203ms/step - loss: 1.1585 - accuracy: 0.5730 - val_loss: 1.1621 - val_accuracy: 0.5734\n",
      "Epoch 10/20\n",
      "1262/1262 [==============================] - 258s 204ms/step - loss: 1.1519 - accuracy: 0.5754 - val_loss: 1.1849 - val_accuracy: 0.5601\n",
      "Epoch 11/20\n",
      "1262/1262 [==============================] - ETA: 0s - loss: 1.1495 - accuracy: 0.5738Restoring model weights from the end of the best epoch: 9.\n",
      "1262/1262 [==============================] - 245s 194ms/step - loss: 1.1495 - accuracy: 0.5738 - val_loss: 1.1666 - val_accuracy: 0.5809\n",
      "Epoch 11: early stopping\n",
      "✅ Model succesfully trained through 11 epochs\n"
     ]
    }
   ],
   "source": [
    "patience=2\n",
    "verbose=1\n",
    "model, history=md.train_model(\n",
    "        model,\n",
    "        train_ds,\n",
    "        val_ds,\n",
    "        batch_size=batch_size,\n",
    "        patience=patience,\n",
    "        verbose=verbose\n",
    "        )"
   ]
  },
  {
   "cell_type": "code",
   "execution_count": 28,
   "id": "6e610452",
   "metadata": {},
   "outputs": [
    {
     "name": "stdout",
     "output_type": "stream",
     "text": [
      "✅ Model evaluated, [Loss, Accuracy]: [1.18,0.57]\n"
     ]
    }
   ],
   "source": [
    "test=md.evaluate_model(\n",
    "        model,\n",
    "        test_ds,\n",
    "        batch_size=BATCH_SIZE\n",
    "        )"
   ]
  },
  {
   "cell_type": "code",
   "execution_count": 30,
   "id": "0d3fb90c",
   "metadata": {},
   "outputs": [],
   "source": [
    "import dermaflow.logic.registry as rg"
   ]
  },
  {
   "cell_type": "code",
   "execution_count": 31,
   "id": "3a204fe3",
   "metadata": {},
   "outputs": [
    {
     "name": "stdout",
     "output_type": "stream",
     "text": [
      "✅ Model saved locally\n"
     ]
    }
   ],
   "source": [
    "rg.save_model(model) \n"
   ]
  },
  {
   "cell_type": "code",
   "execution_count": 61,
   "id": "409b18ca",
   "metadata": {},
   "outputs": [
    {
     "data": {
      "text/plain": [
       "{'loss': 1.0466341972351074, 'accuracy': 0.6193400025367737}"
      ]
     },
     "execution_count": 61,
     "metadata": {},
     "output_type": "execute_result"
    }
   ],
   "source": [
    "test"
   ]
  },
  {
   "cell_type": "code",
   "execution_count": 54,
   "id": "3b2c215d",
   "metadata": {},
   "outputs": [
    {
     "name": "stdout",
     "output_type": "stream",
     "text": [
      "None\n",
      "\n",
      "❌ No model found where asked\n"
     ]
    }
   ],
   "source": [
    "model2=rg.load_model()"
   ]
  },
  {
   "cell_type": "code",
   "execution_count": 51,
   "id": "e3472907",
   "metadata": {},
   "outputs": [],
   "source": [
    "from dermaflow.params import *"
   ]
  },
  {
   "cell_type": "code",
   "execution_count": 42,
   "id": "3efe84b2",
   "metadata": {},
   "outputs": [],
   "source": []
  },
  {
   "cell_type": "code",
   "execution_count": 52,
   "id": "06aeb509",
   "metadata": {},
   "outputs": [
    {
     "name": "stdout",
     "output_type": "stream",
     "text": [
      "None\n",
      "\n",
      "❌ No model found where asked\n"
     ]
    }
   ],
   "source": [
    "model2=rg.load_model()"
   ]
  },
  {
   "cell_type": "code",
   "execution_count": 55,
   "id": "97954e24",
   "metadata": {},
   "outputs": [],
   "source": [
    "MODEL_TARGET"
   ]
  },
  {
   "cell_type": "code",
   "execution_count": null,
   "id": "b00a75ab",
   "metadata": {},
   "outputs": [],
   "source": []
  }
 ],
 "metadata": {
  "kernelspec": {
   "display_name": "Python 3 (ipykernel)",
   "language": "python",
   "name": "python3"
  },
  "language_info": {
   "codemirror_mode": {
    "name": "ipython",
    "version": 3
   },
   "file_extension": ".py",
   "mimetype": "text/x-python",
   "name": "python",
   "nbconvert_exporter": "python",
   "pygments_lexer": "ipython3",
   "version": "3.10.6"
  },
  "toc": {
   "base_numbering": 1,
   "nav_menu": {},
   "number_sections": true,
   "sideBar": true,
   "skip_h1_title": false,
   "title_cell": "Table of Contents",
   "title_sidebar": "Contents",
   "toc_cell": false,
   "toc_position": {},
   "toc_section_display": true,
   "toc_window_display": false
  },
  "varInspector": {
   "cols": {
    "lenName": 16,
    "lenType": 16,
    "lenVar": 40
   },
   "kernels_config": {
    "python": {
     "delete_cmd_postfix": "",
     "delete_cmd_prefix": "del ",
     "library": "var_list.py",
     "varRefreshCmd": "print(var_dic_list())"
    },
    "r": {
     "delete_cmd_postfix": ") ",
     "delete_cmd_prefix": "rm(",
     "library": "var_list.r",
     "varRefreshCmd": "cat(var_dic_list()) "
    }
   },
   "types_to_exclude": [
    "module",
    "function",
    "builtin_function_or_method",
    "instance",
    "_Feature"
   ],
   "window_display": false
  }
 },
 "nbformat": 4,
 "nbformat_minor": 5
}
