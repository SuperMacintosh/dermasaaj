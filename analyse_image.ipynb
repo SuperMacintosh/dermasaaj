{
 "cells": [
  {
   "cell_type": "code",
   "execution_count": 122,
   "id": "8472a077",
   "metadata": {},
   "outputs": [],
   "source": [
    "import pandas as pd\n",
    "import numpy as np\n",
    "import matplotlib.pyplot as plt\n",
    "\n",
    "import random\n",
    "import cv2\n",
    "import os\n",
    "\n",
    "import shutil\n",
    "\n",
    "\n",
    "\n",
    "\n"
   ]
  },
  {
   "cell_type": "code",
   "execution_count": 123,
   "id": "b82871a4",
   "metadata": {},
   "outputs": [],
   "source": [
    "PATH = 'raw_data/data/train'\n",
    "\n",
    "PATH_IMG = 'raw_data/data/train/'\n",
    "\n",
    "\n",
    "\n",
    "\n"
   ]
  },
  {
   "cell_type": "code",
   "execution_count": 124,
   "id": "47567342",
   "metadata": {},
   "outputs": [],
   "source": [
    "start,treshold,percentage=8,23,0.97\n"
   ]
  },
  {
   "cell_type": "code",
   "execution_count": 125,
   "id": "2b9857df",
   "metadata": {},
   "outputs": [],
   "source": [
    "def is_black(image,start,treshold,percentage):   \n",
    "    \n",
    "    \n",
    "    #treshold = le seuil de noir. Noir absolu = 0 par exemple\n",
    "    \n",
    "    \n",
    "    \n",
    "    #percentage= le pourcentage de la ligne qui est noire\n",
    "    # Si une ligne horizontale ou verticale noire \n",
    "\n",
    "    \n",
    "    return  np.sum(image[start,start:-start,:]<treshold)/(len(image[0])*3)>percentage or np.sum(image[start:-start,start,:]<treshold)/(image.shape[0]*3)>percentage\n",
    "\n"
   ]
  },
  {
   "cell_type": "code",
   "execution_count": 126,
   "id": "dcc4589d",
   "metadata": {},
   "outputs": [],
   "source": [
    "def is_black2(image,start,treshold,percentage):   \n",
    "    \n",
    "    #test couleur noir uniquement sur une petite ligne du coin superieur gauche au cas où le cercle déborderait sur les marges\n",
    "    return np.sum(image[start,start:start+85,:]<treshold)/(100*3) >percentage\n"
   ]
  },
  {
   "cell_type": "code",
   "execution_count": 127,
   "id": "2b0b71db",
   "metadata": {},
   "outputs": [],
   "source": [
    "def create_x0(image,start,treshold,percentage):\n",
    "    \n",
    "    y=round(image.shape[0]/2)\n",
    "    \n",
    "    for i in range(start,image.shape[1]-start-5):\n",
    "        \n",
    "        \n",
    "        \n",
    "        \n",
    "        if (np.sum(image[y,i:i+5,:]>treshold)/15)>=percentage:\n",
    "           \n",
    "                \n",
    "            return i"
   ]
  },
  {
   "cell_type": "code",
   "execution_count": 128,
   "id": "592ee96b",
   "metadata": {},
   "outputs": [],
   "source": [
    "def create_x1(image,start,treshold,percentage):\n",
    "    \n",
    "    \n",
    "    y=round(image.shape[0]/2)\n",
    "    length=image.shape[1]\n",
    "    \n",
    "    for i in range(start,image.shape[1]-start-5):\n",
    "\n",
    "        if (np.sum(image[y,length-5-i:length-i,:]>treshold)/15)>=percentage:           \n",
    "            return image.shape[1]-i\n",
    "        \n",
    "           \n",
    "            "
   ]
  },
  {
   "cell_type": "code",
   "execution_count": null,
   "id": "037f3558",
   "metadata": {},
   "outputs": [],
   "source": [
    "\n"
   ]
  },
  {
   "cell_type": "code",
   "execution_count": 129,
   "id": "6bae0939",
   "metadata": {},
   "outputs": [],
   "source": [
    "def create_y0(image,start,treshold,percentage):\n",
    "    \n",
    "        \n",
    "        \n",
    "    x=round(image.shape[1]/2)\n",
    "    \n",
    "    \n",
    "    for i in range(start,image.shape[0]-start):      \n",
    "        if (np.sum(image[i:i+5,x,:]>treshold)/15)>=percentage:                              \n",
    "            return i"
   ]
  },
  {
   "cell_type": "code",
   "execution_count": 130,
   "id": "ea53a53c",
   "metadata": {},
   "outputs": [],
   "source": [
    "def create_y1(image,start,treshold,percentage):\n",
    "        \n",
    "    x=round(image.shape[1]/2)\n",
    "    length=image.shape[0]\n",
    "\n",
    "    \n",
    "    \n",
    "    for i in range(start,image.shape[0]-start-5):      \n",
    "        if (np.sum(image[length-5-i:length-i,x,:]>treshold)/15)>=percentage:                              \n",
    "            return image.shape[0]-i\n",
    "        "
   ]
  },
  {
   "cell_type": "code",
   "execution_count": 131,
   "id": "7cdcfb11",
   "metadata": {},
   "outputs": [],
   "source": [
    "def return_coordinates(image,start,treshold,percentage):\n",
    "    x0=create_x0(image,start,treshold,percentage)\n",
    "    x1=create_x1(image,start,treshold,percentage)\n",
    "    \n",
    "    \n",
    "    \n",
    "    y0=create_y0(image,start,treshold,percentage)\n",
    "    y1=create_y1(image,start,treshold,percentage)\n",
    "    \n",
    "    #if x0>start and x1<image.shape[1]-start:\n",
    "    \n",
    "    return [x0,x1,y0,y1]\n"
   ]
  },
  {
   "cell_type": "code",
   "execution_count": 132,
   "id": "7367c16e",
   "metadata": {},
   "outputs": [],
   "source": [
    "def return_center(coordinates):\n",
    "    x=round((coordinates[1]+coordinates[0])/2)\n",
    "    y=round((coordinates[3]+coordinates[2])/2)\n",
    "    \n",
    "    \n",
    "    return [x,y]"
   ]
  },
  {
   "cell_type": "code",
   "execution_count": 133,
   "id": "9820f84e",
   "metadata": {},
   "outputs": [],
   "source": [
    "def return_radius(coordinates,center):\n",
    "    radius1=center[0]-coordinates[0]\n",
    "    radius2=coordinates[1]-center[0]\n",
    "    radius3=coordinates[3]-center[1]\n",
    "    \n",
    "    radius4=center[1]-coordinates[2]\n",
    "    \n",
    "    \n",
    "    \n",
    "    return min([radius1,radius2,radius3,radius4])\n"
   ]
  },
  {
   "cell_type": "code",
   "execution_count": 134,
   "id": "0eabf4db",
   "metadata": {},
   "outputs": [],
   "source": [
    "def crop_square_external(image,start,treshold,percentage):\n",
    "    \n",
    "    if is_black(image,start,treshold,percentage):\n",
    "        \n",
    "        coordinates=return_coordinates(image,start,treshold,percentage)\n",
    "        \n",
    "        x0,x1,y0,y1=coordinates\n",
    "        new_image=image[y0:y1,x0:x1].copy()\n",
    "    \n",
    "        return new_image\n",
    "    else:\n",
    "        return image\n",
    "        "
   ]
  },
  {
   "cell_type": "code",
   "execution_count": 135,
   "id": "88396b61",
   "metadata": {},
   "outputs": [],
   "source": [
    "def crop_square_external_raw(image,start,treshold,percentage):\n",
    "    \n",
    "    coordinates=return_coordinates(image,start,treshold,percentage)\n",
    "    x0,x1,y0,y1=coordinates\n",
    "    new_image=image[y0:y1,x0:x1].copy()\n",
    "\n",
    "    return new_image\n",
    "\n",
    "        "
   ]
  },
  {
   "cell_type": "code",
   "execution_count": 149,
   "id": "b8adfd12",
   "metadata": {},
   "outputs": [],
   "source": [
    "def crop_square_internal(image,start,treshold,percentage):\n",
    "    \n",
    "    if is_black2(image,start,treshold,percentage):\n",
    "        \n",
    "        coordinates=return_coordinates(image,start,treshold,percentage)\n",
    "        \n",
    "        center=return_center(coordinates)\n",
    "        radius=return_radius(coordinates,center)\n",
    "\n",
    "        c0,c1=center\n",
    "        \n",
    "        \n",
    "        \n",
    "        half_side= (2**0.5)*(radius-15)/2\n",
    "\n",
    "        \n",
    "        x0=int(c0-half_side)\n",
    "        \n",
    "        x1=int(c0+half_side)\n",
    "        y0=int(c1-half_side)\n",
    "        \n",
    "        y1=int(c1+half_side)\n",
    "        \n",
    "        \n",
    "        new_image=image[y0:y1,x0:x1].copy()\n",
    "    \n",
    "        return new_image\n",
    "    else:\n",
    "        return image\n",
    " "
   ]
  },
  {
   "cell_type": "code",
   "execution_count": 150,
   "id": "2cf26191",
   "metadata": {},
   "outputs": [],
   "source": [
    "def crop_square_internal_raw(image,start,treshold,percentage):\n",
    "    \n",
    "    coordinates=return_coordinates(image,start,treshold,percentage)\n",
    "    center=return_center(coordinates)\n",
    "    radius=return_radius(coordinates,center)\n",
    "\n",
    "    \n",
    "    c0,c1=center\n",
    "    \n",
    "    \n",
    "\n",
    "    half_side= (2**0.5)*(radius-15)/2\n",
    "    x0=int(c0-half_side)\n",
    "\n",
    "    x1=int(c0+half_side)\n",
    "    y0=int(c1-half_side)\n",
    "\n",
    "    y1=int(c1+half_side)\n",
    "    \n",
    "\n",
    "    new_image=image[y0:y1,x0:x1].copy()\n",
    "\n",
    "    return new_image"
   ]
  },
  {
   "cell_type": "code",
   "execution_count": 138,
   "id": "4c95e76e",
   "metadata": {},
   "outputs": [],
   "source": [
    "def get_image(file,directory):\n",
    "\n",
    "    \n",
    "    \n",
    "    image_path = f'{PATH_IMG}{directory}/{file}'\n",
    "    \n",
    "    img = cv2.imread(image_path) \n",
    "    \n",
    "    return img\n",
    "\n"
   ]
  },
  {
   "cell_type": "code",
   "execution_count": 139,
   "id": "ee83cd43",
   "metadata": {},
   "outputs": [],
   "source": [
    "def get_image_test(file):\n",
    "\n",
    "    \n",
    "    image_path = f'{PATH_IMG}{file}'\n",
    "    \n",
    "    \n",
    "    #img = cv2.imread(image_path)[...,[2,1,0]]  \n",
    "    img = cv2.imread(image_path,cv2.COLOR_BGR2RGB) \n",
    "    \n",
    "    return img\n",
    "\n"
   ]
  },
  {
   "cell_type": "code",
   "execution_count": 140,
   "id": "27cb6e25",
   "metadata": {},
   "outputs": [],
   "source": [
    "def get_image_test_2(file):\n",
    "\n",
    "    \n",
    "    image_path = f'{PATH_IMG}{file}'\n",
    "    \n",
    "    img = cv2.imread(image_path)[...,[2,1,0]]  \n",
    "    \n",
    "    \n",
    "    return img\n"
   ]
  },
  {
   "cell_type": "code",
   "execution_count": 141,
   "id": "3ebd64ed",
   "metadata": {},
   "outputs": [],
   "source": [
    "def move_original_file(file,directory_name):\n",
    "    source_file = f'{PATH_IMG}{directory_name}/{file}'\n",
    "    destination_folder= directory_name\n",
    "    \n",
    "    shutil.copy(source_file, destination_folder)\n",
    "\n",
    "    "
   ]
  },
  {
   "cell_type": "code",
   "execution_count": 153,
   "id": "fca61e2b",
   "metadata": {},
   "outputs": [],
   "source": [
    "def save_squared_files(start,treshold,percentage,files,directory_name):\n",
    "    \n",
    "\n",
    "\n",
    "    for file in files:\n",
    "        \n",
    "        \n",
    "        \n",
    "        image=get_image(file,directory_name)\n",
    "        \n",
    "        \n",
    "        if is_black2(image,start,treshold,percentage):\n",
    "            \n",
    "            new_image=crop_square_internal_raw(image,start,treshold,percentage)\n",
    "            if new_image.shape[0] <256:\n",
    "                \n",
    "                \n",
    "                extern_image=crop_square_external_raw(image,start,treshold,percentage)\n",
    "                if extern_image.shape[0] <256:\n",
    "                    \n",
    "                    \n",
    "                    move_original_file(file,directory_name)\n",
    "                else:\n",
    "                    cv2.imwrite(f\"{directory_name}/cropped_{file}\", extern_image,[cv2.IMWRITE_JPEG_QUALITY, 100])\n",
    "                    \n",
    "                    \n",
    "            else:\n",
    "                \n",
    "                \n",
    "                cv2.imwrite(f\"{directory_name}/cropped_{file}\", new_image,[cv2.IMWRITE_JPEG_QUALITY, 100])\n",
    "\n",
    "\n",
    "                \n",
    "        else:\n",
    "            \n",
    "            \n",
    "            move_original_file(file,directory_name)\n",
    "\n",
    "            \n"
   ]
  },
  {
   "cell_type": "code",
   "execution_count": 31,
   "id": "ff827011",
   "metadata": {},
   "outputs": [],
   "source": [
    "#list_directory=['AK','BCC','BKL','DF','MEL','NV','SCC','VASC']\n",
    "\n"
   ]
  },
  {
   "cell_type": "code",
   "execution_count": 146,
   "id": "012c45eb",
   "metadata": {},
   "outputs": [],
   "source": [
    "files_AK = [x for x in os.listdir(f'raw_data/data/train/AK') if not x.startswith('.')]\n",
    "files_BCC = [x for x in os.listdir(f'raw_data/data/train/BCC') if not x.startswith('.')]\n",
    "\n",
    "\n",
    "files_BKL = [x for x in os.listdir(f'raw_data/data/train/BKL') if not x.startswith('.')]\n",
    "\n",
    "files_DF = [x for x in os.listdir(f'raw_data/data/train/DF') if not x.startswith('.')]\n",
    "\n",
    "files_MEL = [x for x in os.listdir(f'raw_data/data/train/MEL') if not x.startswith('.')]\n",
    "\n",
    "files_NV = [x for x in os.listdir(f'raw_data/data/train/NV') if not x.startswith('.')]\n",
    "\n",
    "\n",
    "\n",
    "files_SCC = [x for x in os.listdir(f'raw_data/data/train/SCC') if not x.startswith('.')]\n",
    "files_VASC = [x for x in os.listdir(f'raw_data/data/train/VASC') if not x.startswith('.')]\n",
    "\n"
   ]
  },
  {
   "cell_type": "code",
   "execution_count": 158,
   "id": "d9b22007",
   "metadata": {},
   "outputs": [],
   "source": [
    "save_squared_files(start,treshold,percentage,files_MEL,'MEL')\n",
    "\n",
    "\n",
    "\n",
    "\n",
    "\n",
    "\n",
    "\n"
   ]
  },
  {
   "cell_type": "code",
   "execution_count": null,
   "id": "15a474ed",
   "metadata": {},
   "outputs": [],
   "source": [
    "\n",
    "\n"
   ]
  },
  {
   "cell_type": "code",
   "execution_count": 64,
   "id": "8b9f074f",
   "metadata": {},
   "outputs": [],
   "source": []
  },
  {
   "cell_type": "code",
   "execution_count": null,
   "id": "e4b01481",
   "metadata": {},
   "outputs": [],
   "source": []
  }
 ],
 "metadata": {
  "kernelspec": {
   "display_name": "Python 3 (ipykernel)",
   "language": "python",
   "name": "python3"
  },
  "language_info": {
   "codemirror_mode": {
    "name": "ipython",
    "version": 3
   },
   "file_extension": ".py",
   "mimetype": "text/x-python",
   "name": "python",
   "nbconvert_exporter": "python",
   "pygments_lexer": "ipython3",
   "version": "3.10.6"
  },
  "toc": {
   "base_numbering": 1,
   "nav_menu": {},
   "number_sections": true,
   "sideBar": true,
   "skip_h1_title": false,
   "title_cell": "Table of Contents",
   "title_sidebar": "Contents",
   "toc_cell": false,
   "toc_position": {},
   "toc_section_display": true,
   "toc_window_display": false
  }
 },
 "nbformat": 4,
 "nbformat_minor": 5
}
