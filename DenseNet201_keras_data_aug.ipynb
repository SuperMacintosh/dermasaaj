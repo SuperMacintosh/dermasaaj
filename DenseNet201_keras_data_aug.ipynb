{
 "cells": [
  {
   "cell_type": "code",
   "execution_count": 1,
   "metadata": {
    "id": "ZwrhGbi9IjPU"
   },
   "outputs": [],
   "source": [
    "import matplotlib.pyplot as plt\n",
    "import pathlib\n",
    "import numpy as np\n",
    "import os\n",
    "import tensorflow as tf\n",
    "import tensorflow_datasets as tfds\n",
    "\n",
    "from tensorflow.keras import layers\n",
    "from tensorflow.keras.models import Sequential\n",
    "from tensorflow import keras\n",
    "from tensorflow.keras import Sequential, layers\n",
    "from tensorflow.keras.layers import Conv2D, MaxPooling2D, Flatten, Dropout, Dense\n"
   ]
  },
  {
   "cell_type": "code",
   "execution_count": 2,
   "metadata": {
    "colab": {
     "base_uri": "https://localhost:8080/"
    },
    "id": "WUXjsPMDIaz0",
    "outputId": "be846857-c2fb-498c-dbd2-6d94ca901bf7"
   },
   "outputs": [
    {
     "name": "stdout",
     "output_type": "stream",
     "text": [
      "Downloading data from https://storage.googleapis.com/derma-data/raw_data/archive.zip\n",
      "9766127229/9766127229 [==============================] - 269s 0us/step\n"
     ]
    }
   ],
   "source": [
    "# download dataset from GCP to keras if not yet downloaded\n",
    "\n",
    "cache_path = pathlib.Path(\"../root/.keras/datasets/data\")\n",
    "if not cache_path.is_dir():\n",
    "  dataset_url = \"https://storage.googleapis.com/derma-data/raw_data/archive.zip\"\n",
    "  data_dir = tf.keras.utils.get_file(\n",
    "                                    origin=dataset_url,\n",
    "                                      extract=True,\n",
    "                                      archive_format\t='zip')\n",
    "  data_dir = pathlib.Path(data_dir)"
   ]
  },
  {
   "cell_type": "code",
   "execution_count": 3,
   "metadata": {
    "id": "qoCYn8_GNXJf"
   },
   "outputs": [],
   "source": [
    "batch_size = 32\n",
    "img_height = 150\n",
    "img_width = 150"
   ]
  },
  {
   "cell_type": "code",
   "execution_count": 4,
   "metadata": {
    "colab": {
     "base_uri": "https://localhost:8080/"
    },
    "id": "msnKrUqoNjXS",
    "outputId": "2eecef20-bf32-4ebe-eda5-1e005895cc90"
   },
   "outputs": [
    {
     "name": "stdout",
     "output_type": "stream",
     "text": [
      "Found 2606 files belonging to 8 classes.\n"
     ]
    }
   ],
   "source": [
    "test_ds = tf.keras.utils.image_dataset_from_directory('../root/.keras/datasets/data/test'\n",
    "                                        ,batch_size=batch_size\n",
    "                                        ,label_mode='categorical'\n",
    "                                        ,image_size=(img_height,img_width))"
   ]
  },
  {
   "cell_type": "code",
   "execution_count": 5,
   "metadata": {
    "colab": {
     "base_uri": "https://localhost:8080/"
    },
    "id": "3X8bj-vlNmrK",
    "outputId": "9519d134-75f8-4a86-bbc4-1aa66c265d5c"
   },
   "outputs": [
    {
     "name": "stdout",
     "output_type": "stream",
     "text": [
      "Found 2546 files belonging to 8 classes.\n"
     ]
    }
   ],
   "source": [
    "val_ds = tf.keras.utils.image_dataset_from_directory('../root/.keras/datasets/data/valid'\n",
    "                                        ,batch_size=batch_size\n",
    "                                        ,label_mode='categorical'\n",
    "                                        ,image_size=(img_height,img_width))"
   ]
  },
  {
   "cell_type": "code",
   "execution_count": 16,
   "metadata": {
    "colab": {
     "base_uri": "https://localhost:8080/"
    },
    "id": "f1W_Wz6sOEZd",
    "outputId": "5dfc4f89-e3e4-4230-b989-ba804d80f8ea"
   },
   "outputs": [
    {
     "name": "stdout",
     "output_type": "stream",
     "text": [
      "(32, 150, 150, 3)\n"
     ]
    }
   ],
   "source": [
    "for x, y in val_ds.take(1):\n",
    "  print(x.shape)"
   ]
  },
  {
   "cell_type": "code",
   "execution_count": 17,
   "metadata": {
    "id": "5uOp_gaW_z_Z"
   },
   "outputs": [],
   "source": [
    "# Load model\n",
    "from keras.applications.densenet import DenseNet201\n",
    "\n",
    "def load_model():\n",
    "\n",
    "  model = DenseNet201(\n",
    "      include_top=False,\n",
    "      weights=\"imagenet\",\n",
    "      input_shape=x[0].shape,\n",
    "      classifier_activation=\"softmax\")\n",
    "        \n",
    "  return model\n"
   ]
  },
  {
   "cell_type": "code",
   "execution_count": 1,
   "metadata": {
    "colab": {
     "base_uri": "https://localhost:8080/"
    },
    "id": "ToEvNylu_LTE",
    "outputId": "ca5f3794-b80e-40c3-c92f-70f61ca85569"
   },
   "outputs": [],
   "source": [
    "# Number of parameters\n",
    "model = load_model()\n",
    "model.summary()"
   ]
  },
  {
   "cell_type": "code",
   "execution_count": 18,
   "metadata": {
    "id": "edeEkKW8CJ69"
   },
   "outputs": [],
   "source": [
    "# deactivate the training of the DenseNet parameters\n",
    "def set_nontrainable_layers(model):\n",
    "    \n",
    "    # Set the first layers to be untrainable\n",
    "    model.trainable = False\n",
    "    \n",
    "    return model"
   ]
  },
  {
   "cell_type": "code",
   "execution_count": 2,
   "metadata": {
    "colab": {
     "base_uri": "https://localhost:8080/"
    },
    "id": "LKwefX0WCogo",
    "outputId": "3e2618df-a820-4804-9bbd-6156b7bb931d"
   },
   "outputs": [],
   "source": [
    "# check params of EfficientNet are non-trainable\n",
    "model = set_nontrainable_layers(model)\n",
    "model.summary()"
   ]
  },
  {
   "cell_type": "code",
   "execution_count": 19,
   "metadata": {
    "id": "z7bgZtsRDBi6"
   },
   "outputs": [],
   "source": [
    "#Chain pre-trained layers of EfficienNet with our flattening and dense layers\n",
    "from tensorflow.keras import layers, models\n",
    "\n",
    "class_names = test_ds.class_names\n",
    "num_classes = len(class_names)\n",
    "\n",
    "def add_last_layers(model):\n",
    "    '''Take a pre-trained model, set its parameters as non-trainable, and add additional trainable layers on top'''\n",
    "    \n",
    "    base_model = set_nontrainable_layers(model)\n",
    "    flatten_layer = layers.Flatten()\n",
    "    dense_layer1 = layers.Dense(512, activation='relu')\n",
    "    dense_layer2 = layers.Dense(128, activation='relu')\n",
    "    dense_layer3 = layers.Dense(64, activation='relu')\n",
    "    dense_layer4 = layers.Dense(32, activation='relu')\n",
    "    prediction_layer = layers.Dense(num_classes, activation='softmax')\n",
    "        \n",
    "    model = models.Sequential([\n",
    "        base_model,\n",
    "        flatten_layer,\n",
    "        dense_layer1,\n",
    "        dense_layer2,\n",
    "        dense_layer3,\n",
    "        dense_layer4,\n",
    "        prediction_layer\n",
    "    ])\n",
    "    \n",
    "    return model"
   ]
  },
  {
   "cell_type": "code",
   "execution_count": 3,
   "metadata": {
    "colab": {
     "base_uri": "https://localhost:8080/"
    },
    "id": "3EHL0xlYE8j6",
    "outputId": "f604c2b5-ddef-4e25-af71-3d9c48dbc892"
   },
   "outputs": [],
   "source": [
    "# Number of parameters for our customized EfficientNet\n",
    "model = add_last_layers(model)\n",
    "model.summary()"
   ]
  },
  {
   "cell_type": "code",
   "execution_count": 28,
   "metadata": {
    "id": "VEu5F2aNFQIX"
   },
   "outputs": [],
   "source": [
    "# Build a full customized DenseNet and compile it\n",
    "from tensorflow.keras import optimizers\n",
    "\n",
    "def build_model():\n",
    "    \n",
    "    model = load_model()\n",
    "    model = add_last_layers(model)\n",
    "    \n",
    "    opt = optimizers.Adam(learning_rate=0.001)\n",
    "    model.compile(loss='categorical_crossentropy',\n",
    "                  optimizer=opt,\n",
    "                  metrics=[\n",
    "tf.keras.metrics.BinaryAccuracy(name='accuracy'),\n",
    "tf.keras.metrics.Precision(name='precision'),\n",
    "tf.keras.metrics.Recall(name='recall')\n",
    "])\n",
    "    return model"
   ]
  },
  {
   "cell_type": "code",
   "execution_count": 29,
   "metadata": {
    "id": "mBSIL2CGcD7p"
   },
   "outputs": [],
   "source": [
    "# Pass the validation and test datasets into the DenseNet preprocessing function -required-\n",
    "from tensorflow import keras\n",
    "from keras.applications.densenet import preprocess_input\n",
    "\n",
    "def new_preproc(X,y):\n",
    "  return preprocess_input(X),y\n",
    "\n",
    "val_preproc_ds = val_ds.map(new_preproc)\n",
    "test_preproc_ds = test_ds.map(new_preproc)"
   ]
  },
  {
   "cell_type": "code",
   "execution_count": 30,
   "metadata": {
    "colab": {
     "base_uri": "https://localhost:8080/"
    },
    "id": "l7Tci6qfbA9L",
    "outputId": "acd8f111-75ca-42a5-9639-303e8dbb3520"
   },
   "outputs": [
    {
     "name": "stdout",
     "output_type": "stream",
     "text": [
      "Found 20179 images belonging to 8 classes.\n"
     ]
    }
   ],
   "source": [
    "# Create a train_generator using keras ImageDataGenerator and flow_from_directory functions\n",
    "# Notice that the required DenseNet preprocess_input is passed onto the train dataset directly\n",
    "# in the parameters of the Image Data Generator function\n",
    "\n",
    "from tensorflow.keras.preprocessing.image import ImageDataGenerator\n",
    "\n",
    "train_datagen = ImageDataGenerator(preprocessing_function=preprocess_input, rotation_range = 10, zoom_range = 0.20, \n",
    "fill_mode = \"nearest\", shear_range = 0.1, horizontal_flip = True, \n",
    "width_shift_range = 0.1, height_shift_range = 0.1)\n",
    "\n",
    "train_generator = train_datagen.flow_from_directory(directory = '../root/.keras/datasets/data/train',\n",
    "target_size=(img_height,img_width), classes= test_ds.class_names,\n",
    "class_mode='categorical', batch_size=batch_size, shuffle=True)"
   ]
  },
  {
   "cell_type": "code",
   "execution_count": 31,
   "metadata": {
    "colab": {
     "base_uri": "https://localhost:8080/"
    },
    "id": "98amfmPMG6-2",
    "outputId": "dc13eba0-fd5b-4545-fd09-640c68128fee"
   },
   "outputs": [
    {
     "name": "stdout",
     "output_type": "stream",
     "text": [
      "Epoch 1/30\n",
      "631/631 [==============================] - 595s 922ms/step - loss: 1.1159 - accuracy: 0.9168 - precision: 0.7453 - recall: 0.5080 - val_loss: 0.9726 - val_accuracy: 0.9205 - val_precision: 0.7851 - val_recall: 0.5008\n",
      "Epoch 2/30\n",
      "631/631 [==============================] - 576s 912ms/step - loss: 0.9274 - accuracy: 0.9249 - precision: 0.7748 - recall: 0.5631 - val_loss: 0.9184 - val_accuracy: 0.9271 - val_precision: 0.8238 - val_recall: 0.5306\n",
      "Epoch 3/30\n",
      "631/631 [==============================] - 572s 906ms/step - loss: 0.8731 - accuracy: 0.9288 - precision: 0.7841 - recall: 0.5935 - val_loss: 0.8770 - val_accuracy: 0.9274 - val_precision: 0.7911 - val_recall: 0.5695\n",
      "Epoch 4/30\n",
      "631/631 [==============================] - 575s 911ms/step - loss: 0.8457 - accuracy: 0.9296 - precision: 0.7818 - recall: 0.6059 - val_loss: 0.8520 - val_accuracy: 0.9288 - val_precision: 0.7790 - val_recall: 0.6009\n",
      "Epoch 5/30\n",
      "631/631 [==============================] - 575s 911ms/step - loss: 0.8130 - accuracy: 0.9321 - precision: 0.7908 - recall: 0.6213 - val_loss: 0.8278 - val_accuracy: 0.9321 - val_precision: 0.7828 - val_recall: 0.6328\n",
      "Epoch 6/30\n",
      "631/631 [==============================] - 582s 922ms/step - loss: 0.7892 - accuracy: 0.9338 - precision: 0.7935 - recall: 0.6363 - val_loss: 0.8339 - val_accuracy: 0.9288 - val_precision: 0.7708 - val_recall: 0.6127\n",
      "Epoch 7/30\n",
      "631/631 [==============================] - 585s 926ms/step - loss: 0.7630 - accuracy: 0.9353 - precision: 0.7980 - recall: 0.6462 - val_loss: 0.8553 - val_accuracy: 0.9299 - val_precision: 0.7776 - val_recall: 0.6151\n",
      "Epoch 8/30\n",
      "631/631 [==============================] - 570s 903ms/step - loss: 0.7460 - accuracy: 0.9369 - precision: 0.8040 - recall: 0.6549 - val_loss: 0.8499 - val_accuracy: 0.9316 - val_precision: 0.7604 - val_recall: 0.6606\n",
      "Epoch 9/30\n",
      "631/631 [==============================] - 575s 911ms/step - loss: 0.7265 - accuracy: 0.9380 - precision: 0.8047 - recall: 0.6657 - val_loss: 0.8748 - val_accuracy: 0.9296 - val_precision: 0.7599 - val_recall: 0.6390\n",
      "Epoch 10/30\n",
      "631/631 [==============================] - 572s 907ms/step - loss: 0.7049 - accuracy: 0.9399 - precision: 0.8099 - recall: 0.6780 - val_loss: 0.8021 - val_accuracy: 0.9346 - val_precision: 0.7762 - val_recall: 0.6701\n",
      "Epoch 11/30\n",
      "631/631 [==============================] - 578s 915ms/step - loss: 0.6869 - accuracy: 0.9412 - precision: 0.8143 - recall: 0.6864 - val_loss: 0.8254 - val_accuracy: 0.9319 - val_precision: 0.7689 - val_recall: 0.6508\n",
      "Epoch 12/30\n",
      "631/631 [==============================] - 587s 929ms/step - loss: 0.6731 - accuracy: 0.9414 - precision: 0.8127 - recall: 0.6901 - val_loss: 0.7890 - val_accuracy: 0.9341 - val_precision: 0.7804 - val_recall: 0.6575\n",
      "Epoch 13/30\n",
      "631/631 [==============================] - 580s 919ms/step - loss: 0.6618 - accuracy: 0.9432 - precision: 0.8178 - recall: 0.7016 - val_loss: 0.8007 - val_accuracy: 0.9349 - val_precision: 0.7816 - val_recall: 0.6650\n",
      "Epoch 14/30\n",
      "631/631 [==============================] - 575s 910ms/step - loss: 0.6403 - accuracy: 0.9441 - precision: 0.8197 - recall: 0.7091 - val_loss: 0.7808 - val_accuracy: 0.9347 - val_precision: 0.7897 - val_recall: 0.6504\n",
      "Epoch 15/30\n",
      "631/631 [==============================] - 580s 919ms/step - loss: 0.6309 - accuracy: 0.9454 - precision: 0.8242 - recall: 0.7156 - val_loss: 0.7911 - val_accuracy: 0.9350 - val_precision: 0.7758 - val_recall: 0.6756\n",
      "Epoch 16/30\n",
      "631/631 [==============================] - 584s 925ms/step - loss: 0.6179 - accuracy: 0.9470 - precision: 0.8288 - recall: 0.7256 - val_loss: 0.7710 - val_accuracy: 0.9361 - val_precision: 0.7881 - val_recall: 0.6689\n",
      "Epoch 17/30\n",
      "631/631 [==============================] - 581s 921ms/step - loss: 0.5937 - accuracy: 0.9489 - precision: 0.8349 - recall: 0.7368 - val_loss: 0.7964 - val_accuracy: 0.9366 - val_precision: 0.7711 - val_recall: 0.7011\n",
      "Epoch 18/30\n",
      "631/631 [==============================] - 574s 909ms/step - loss: 0.5933 - accuracy: 0.9487 - precision: 0.8347 - recall: 0.7353 - val_loss: 0.7966 - val_accuracy: 0.9348 - val_precision: 0.7804 - val_recall: 0.6658\n",
      "Epoch 19/30\n",
      "631/631 [==============================] - 582s 922ms/step - loss: 0.5755 - accuracy: 0.9495 - precision: 0.8345 - recall: 0.7437 - val_loss: 0.7904 - val_accuracy: 0.9340 - val_precision: 0.7697 - val_recall: 0.6736\n",
      "Epoch 20/30\n",
      "631/631 [==============================] - 579s 917ms/step - loss: 0.5689 - accuracy: 0.9504 - precision: 0.8378 - recall: 0.7476 - val_loss: 0.8296 - val_accuracy: 0.9336 - val_precision: 0.7642 - val_recall: 0.6783\n",
      "Epoch 21/30\n",
      "631/631 [==============================] - 578s 915ms/step - loss: 0.5505 - accuracy: 0.9518 - precision: 0.8428 - recall: 0.7554 - val_loss: 0.8198 - val_accuracy: 0.9326 - val_precision: 0.7632 - val_recall: 0.6685\n",
      "Epoch 22/30\n",
      "631/631 [==============================] - ETA: 0s - loss: 0.5442 - accuracy: 0.9513 - precision: 0.8383 - recall: 0.7564Restoring model weights from the end of the best epoch: 17.\n",
      "631/631 [==============================] - 588s 931ms/step - loss: 0.5442 - accuracy: 0.9513 - precision: 0.8383 - recall: 0.7564 - val_loss: 0.8707 - val_accuracy: 0.9290 - val_precision: 0.7372 - val_recall: 0.6709\n",
      "Epoch 22: early stopping\n"
     ]
    }
   ],
   "source": [
    "# Fit the model\n",
    "from keras.callbacks import EarlyStopping, ModelCheckpoint, CSVLogger\n",
    "\n",
    "model = build_model()\n",
    "\n",
    "es = EarlyStopping(monitor = 'val_accuracy', \n",
    "                   mode = 'max', \n",
    "                   patience = 5, \n",
    "                   verbose = 1, \n",
    "                   restore_best_weights = True)\n",
    "\n",
    "csv_logger = CSVLogger('training.log')\n",
    "\n",
    "# checkpoint_callback = ModelCheckpoint(\n",
    "#                 filepath=LOCAL_CHECKPOINT_PATH,\n",
    "#                 save_weights_only=True,\n",
    "#                 monitor='val_accuracy',\n",
    "#                 mode='max',\n",
    "#                 save_best_only=True)\n",
    "\n",
    "history = model.fit(train_generator, \n",
    "                    validation_data=val_preproc_ds,\n",
    "                    epochs=30,\n",
    "                    batch_size=batch_size,\n",
    "                    callbacks=[es, csv_logger]\n",
    "                    )\n"
   ]
  },
  {
   "cell_type": "code",
   "execution_count": 32,
   "metadata": {
    "id": "KeLyJS0vHXOB"
   },
   "outputs": [],
   "source": [
    "# Plot the accuracy\n",
    "def plot_history(history, title='', axs=None, exp_name=\"\"):\n",
    "    if axs is not None:\n",
    "        ax1, ax2 = axs\n",
    "    else:\n",
    "        f, (ax1, ax2) = plt.subplots(1, 2, figsize=(12, 4))\n",
    "    \n",
    "    if len(exp_name) > 0 and exp_name[0] != '_':\n",
    "        exp_name = '_' + exp_name\n",
    "    ax1.plot(history.history['loss'], label='train' + exp_name)\n",
    "    ax1.plot(history.history['val_loss'], label='val' + exp_name)\n",
    "    #ax1.set_ylim(0., 2.2)\n",
    "    ax1.set_title('loss')\n",
    "    ax1.legend()\n",
    "\n",
    "    ax2.plot(history.history['accuracy'], label='train accuracy'  + exp_name)\n",
    "    ax2.plot(history.history['val_accuracy'], label='val accuracy'  + exp_name)\n",
    "    #ax2.set_ylim(0.25, 1.)\n",
    "    ax2.set_title('Accuracy')\n",
    "    ax2.legend()\n",
    "    return (ax1, ax2)"
   ]
  },
  {
   "cell_type": "code",
   "execution_count": 4,
   "metadata": {
    "colab": {
     "base_uri": "https://localhost:8080/",
     "height": 301
    },
    "id": "Hb5cjNi7He2J",
    "outputId": "ca537e98-cd6f-42ca-d4f2-b2998a38a7bd"
   },
   "outputs": [],
   "source": [
    "plot_history(history)"
   ]
  },
  {
   "cell_type": "code",
   "execution_count": 33,
   "metadata": {
    "colab": {
     "base_uri": "https://localhost:8080/"
    },
    "id": "3DqKx_I6Hj0j",
    "outputId": "dc5f41d6-8cc4-4355-f461-12466d7bf6ac"
   },
   "outputs": [
    {
     "name": "stdout",
     "output_type": "stream",
     "text": [
      "82/82 [==============================] - 29s 340ms/step - loss: 0.8863 - accuracy: 0.9325 - precision: 0.7583 - recall: 0.6754\n",
      "test_accuracy_vgg = 68.0 %\n"
     ]
    }
   ],
   "source": [
    "# Evaluate the model\n",
    "res_vgg = model.evaluate(test_preproc_ds)\n",
    "\n",
    "test_accuracy_vgg = res_vgg[1]\n",
    "test_precision_vgg = res_vgg[2]\n",
    "test_recall_vgg = res_vgg[3]\n",
    "\n",
    "print(f\"test_accuracy_vgg = {round(test_accuracy_vgg,2)*100} %\")\n",
    "print(f\"test_precision_vgg = {round(test_precision_vgg,2)*100} %\")\n",
    "print(f\"test_recall_vgg = {round(test_recall_vgg,2)*100} %\")"
   ]
  },
  {
   "cell_type": "code",
   "execution_count": 34,
   "metadata": {
    "colab": {
     "base_uri": "https://localhost:8080/"
    },
    "id": "YcizemGyTGcL",
    "outputId": "183bdd16-23fe-49a9-fc7b-2ca27f68036a"
   },
   "outputs": [
    {
     "data": {
      "text/plain": [
       "[0.8863046765327454, 0.9325115084648132, 0.758293867111206, 0.6753645539283752]"
      ]
     },
     "execution_count": 34,
     "metadata": {},
     "output_type": "execute_result"
    }
   ],
   "source": [
    "res_vgg\n"
   ]
  }
 ],
 "metadata": {
  "accelerator": "TPU",
  "colab": {
   "gpuType": "A100",
   "machine_shape": "hm",
   "provenance": []
  },
  "kernelspec": {
   "display_name": "Python 3 (ipykernel)",
   "language": "python",
   "name": "python3"
  },
  "language_info": {
   "codemirror_mode": {
    "name": "ipython",
    "version": 3
   },
   "file_extension": ".py",
   "mimetype": "text/x-python",
   "name": "python",
   "nbconvert_exporter": "python",
   "pygments_lexer": "ipython3",
   "version": "3.10.6"
  },
  "toc": {
   "base_numbering": 1,
   "nav_menu": {},
   "number_sections": true,
   "sideBar": true,
   "skip_h1_title": false,
   "title_cell": "Table of Contents",
   "title_sidebar": "Contents",
   "toc_cell": false,
   "toc_position": {},
   "toc_section_display": true,
   "toc_window_display": false
  }
 },
 "nbformat": 4,
 "nbformat_minor": 1
}
