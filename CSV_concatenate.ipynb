{
 "cells": [
  {
   "cell_type": "code",
   "execution_count": 1,
   "id": "cfd1bdbe",
   "metadata": {},
   "outputs": [],
   "source": [
    "import pandas as pd\n",
    "import numpy as np\n",
    "import matplotlib.pyplot as plt\n",
    "\n",
    "import random\n",
    "import cv2\n",
    "import osb\n",
    "\n",
    "\n",
    "import shutil"
   ]
  },
  {
   "cell_type": "code",
   "execution_count": 2,
   "id": "a037306e",
   "metadata": {},
   "outputs": [],
   "source": [
    "df=pd.read_csv('raw_data/ISIC_2019_Training_Metadata.csv')"
   ]
  },
  {
   "cell_type": "code",
   "execution_count": 6,
   "id": "0b4c3e9c",
   "metadata": {},
   "outputs": [
    {
     "data": {
      "text/html": [
       "<div>\n",
       "<style scoped>\n",
       "    .dataframe tbody tr th:only-of-type {\n",
       "        vertical-align: middle;\n",
       "    }\n",
       "\n",
       "    .dataframe tbody tr th {\n",
       "        vertical-align: top;\n",
       "    }\n",
       "\n",
       "    .dataframe thead th {\n",
       "        text-align: right;\n",
       "    }\n",
       "</style>\n",
       "<table border=\"1\" class=\"dataframe\">\n",
       "  <thead>\n",
       "    <tr style=\"text-align: right;\">\n",
       "      <th></th>\n",
       "      <th>image</th>\n",
       "      <th>age_approx</th>\n",
       "      <th>anatom_site_general</th>\n",
       "      <th>lesion_id</th>\n",
       "      <th>sex</th>\n",
       "    </tr>\n",
       "  </thead>\n",
       "  <tbody>\n",
       "    <tr>\n",
       "      <th>0</th>\n",
       "      <td>ISIC_0000000</td>\n",
       "      <td>55.0</td>\n",
       "      <td>anterior torso</td>\n",
       "      <td>NaN</td>\n",
       "      <td>female</td>\n",
       "    </tr>\n",
       "    <tr>\n",
       "      <th>1</th>\n",
       "      <td>ISIC_0000001</td>\n",
       "      <td>30.0</td>\n",
       "      <td>anterior torso</td>\n",
       "      <td>NaN</td>\n",
       "      <td>female</td>\n",
       "    </tr>\n",
       "    <tr>\n",
       "      <th>2</th>\n",
       "      <td>ISIC_0000002</td>\n",
       "      <td>60.0</td>\n",
       "      <td>upper extremity</td>\n",
       "      <td>NaN</td>\n",
       "      <td>female</td>\n",
       "    </tr>\n",
       "    <tr>\n",
       "      <th>3</th>\n",
       "      <td>ISIC_0000003</td>\n",
       "      <td>30.0</td>\n",
       "      <td>upper extremity</td>\n",
       "      <td>NaN</td>\n",
       "      <td>male</td>\n",
       "    </tr>\n",
       "    <tr>\n",
       "      <th>4</th>\n",
       "      <td>ISIC_0000004</td>\n",
       "      <td>80.0</td>\n",
       "      <td>posterior torso</td>\n",
       "      <td>NaN</td>\n",
       "      <td>male</td>\n",
       "    </tr>\n",
       "    <tr>\n",
       "      <th>...</th>\n",
       "      <td>...</td>\n",
       "      <td>...</td>\n",
       "      <td>...</td>\n",
       "      <td>...</td>\n",
       "      <td>...</td>\n",
       "    </tr>\n",
       "    <tr>\n",
       "      <th>25326</th>\n",
       "      <td>ISIC_0073247</td>\n",
       "      <td>85.0</td>\n",
       "      <td>head/neck</td>\n",
       "      <td>BCN_0003925</td>\n",
       "      <td>female</td>\n",
       "    </tr>\n",
       "    <tr>\n",
       "      <th>25327</th>\n",
       "      <td>ISIC_0073248</td>\n",
       "      <td>65.0</td>\n",
       "      <td>anterior torso</td>\n",
       "      <td>BCN_0001819</td>\n",
       "      <td>male</td>\n",
       "    </tr>\n",
       "    <tr>\n",
       "      <th>25328</th>\n",
       "      <td>ISIC_0073249</td>\n",
       "      <td>70.0</td>\n",
       "      <td>lower extremity</td>\n",
       "      <td>BCN_0001085</td>\n",
       "      <td>male</td>\n",
       "    </tr>\n",
       "    <tr>\n",
       "      <th>25329</th>\n",
       "      <td>ISIC_0073251</td>\n",
       "      <td>55.0</td>\n",
       "      <td>palms/soles</td>\n",
       "      <td>BCN_0002083</td>\n",
       "      <td>female</td>\n",
       "    </tr>\n",
       "    <tr>\n",
       "      <th>25330</th>\n",
       "      <td>ISIC_0073254</td>\n",
       "      <td>50.0</td>\n",
       "      <td>upper extremity</td>\n",
       "      <td>BCN_0001079</td>\n",
       "      <td>male</td>\n",
       "    </tr>\n",
       "  </tbody>\n",
       "</table>\n",
       "<p>25331 rows × 5 columns</p>\n",
       "</div>"
      ],
      "text/plain": [
       "              image  age_approx anatom_site_general    lesion_id     sex\n",
       "0      ISIC_0000000        55.0      anterior torso          NaN  female\n",
       "1      ISIC_0000001        30.0      anterior torso          NaN  female\n",
       "2      ISIC_0000002        60.0     upper extremity          NaN  female\n",
       "3      ISIC_0000003        30.0     upper extremity          NaN    male\n",
       "4      ISIC_0000004        80.0     posterior torso          NaN    male\n",
       "...             ...         ...                 ...          ...     ...\n",
       "25326  ISIC_0073247        85.0           head/neck  BCN_0003925  female\n",
       "25327  ISIC_0073248        65.0      anterior torso  BCN_0001819    male\n",
       "25328  ISIC_0073249        70.0     lower extremity  BCN_0001085    male\n",
       "25329  ISIC_0073251        55.0         palms/soles  BCN_0002083  female\n",
       "25330  ISIC_0073254        50.0     upper extremity  BCN_0001079    male\n",
       "\n",
       "[25331 rows x 5 columns]"
      ]
     },
     "execution_count": 6,
     "metadata": {},
     "output_type": "execute_result"
    }
   ],
   "source": [
    "df"
   ]
  },
  {
   "cell_type": "code",
   "execution_count": 75,
   "id": "eff2f436",
   "metadata": {},
   "outputs": [],
   "source": [
    "df_test=df.copy()"
   ]
  },
  {
   "cell_type": "code",
   "execution_count": null,
   "id": "cc37a4fa",
   "metadata": {},
   "outputs": [],
   "source": []
  },
  {
   "cell_type": "code",
   "execution_count": 81,
   "id": "b015fd9b",
   "metadata": {},
   "outputs": [],
   "source": [
    "list_directory=['AK','BCC','BKL','DF','MEL','NV','SCC','VASC']\n"
   ]
  },
  {
   "cell_type": "code",
   "execution_count": 82,
   "id": "0c848497",
   "metadata": {},
   "outputs": [],
   "source": [
    "directories={}"
   ]
  },
  {
   "cell_type": "code",
   "execution_count": 83,
   "id": "3df4d1f4",
   "metadata": {},
   "outputs": [],
   "source": [
    "directories_raw=[]"
   ]
  },
  {
   "cell_type": "code",
   "execution_count": 84,
   "id": "38ba7ce6",
   "metadata": {},
   "outputs": [],
   "source": [
    "for i in list_directory:\n",
    "    files = [x for x in os.listdir(f'raw_data/data/train/{i}') if not x.startswith('.')]\n",
    "    directories[i]=files\n",
    "    directories_raw=directories_raw+files"
   ]
  },
  {
   "cell_type": "code",
   "execution_count": 36,
   "id": "b5f1a175",
   "metadata": {},
   "outputs": [],
   "source": [
    "list_base_files=df['image']"
   ]
  },
  {
   "cell_type": "code",
   "execution_count": null,
   "id": "d50dd9d9",
   "metadata": {},
   "outputs": [],
   "source": []
  },
  {
   "cell_type": "code",
   "execution_count": null,
   "id": "a2de6218",
   "metadata": {},
   "outputs": [],
   "source": []
  },
  {
   "cell_type": "code",
   "execution_count": 69,
   "id": "7c1bfcfd",
   "metadata": {},
   "outputs": [],
   "source": [
    "string_test=\"coucou. blalble. grr\""
   ]
  },
  {
   "cell_type": "code",
   "execution_count": 70,
   "id": "e608f6ac",
   "metadata": {},
   "outputs": [
    {
     "name": "stdout",
     "output_type": "stream",
     "text": [
      "c'estbon\n"
     ]
    }
   ],
   "source": [
    "if \"coucou\" in string_test:\n",
    "    print(\"c'estbon\")"
   ]
  },
  {
   "cell_type": "code",
   "execution_count": 85,
   "id": "553e989c",
   "metadata": {},
   "outputs": [],
   "source": [
    "new_rows = []"
   ]
  },
  {
   "cell_type": "code",
   "execution_count": 86,
   "id": "a7c9e106",
   "metadata": {},
   "outputs": [],
   "source": [
    "for index, row in df.iterrows():\n",
    "    file_name = row['image']\n",
    "    sex = row['sex']\n",
    "    anat = row['anatom_site_general']\n",
    "    age = row['age_approx']\n",
    "    lesion_id=row['lesion_id']\n",
    "    \n",
    "    \n",
    "    for file in directories_raw:\n",
    "        if f\"{file_name}_\" in file:\n",
    "            new_row = {'image': file[:-4],'age_approx': age,'anatom_site_general' :anat, 'lesion_id':lesion_id,'sex':sex}\n",
    "            \n",
    "            new_rows.append(new_row)\n",
    "\n",
    "        \n",
    "        "
   ]
  },
  {
   "cell_type": "code",
   "execution_count": 87,
   "id": "7bec6115",
   "metadata": {},
   "outputs": [
    {
     "data": {
      "text/plain": [
       "[{'image': 'ISIC_0024470_1',\n",
       "  'age_approx': 60.0,\n",
       "  'anatom_site_general': 'upper extremity',\n",
       "  'lesion_id': 'HAM_0006220',\n",
       "  'sex': 'male'},\n",
       " {'image': 'ISIC_0073110_22',\n",
       "  'age_approx': 35.0,\n",
       "  'anatom_site_general': 'lower extremity',\n",
       "  'lesion_id': 'BCN_0000811',\n",
       "  'sex': 'male'}]"
      ]
     },
     "execution_count": 87,
     "metadata": {},
     "output_type": "execute_result"
    }
   ],
   "source": [
    "new_rows"
   ]
  },
  {
   "cell_type": "code",
   "execution_count": 88,
   "id": "54c914a0",
   "metadata": {},
   "outputs": [
    {
     "name": "stderr",
     "output_type": "stream",
     "text": [
      "/var/folders/sl/cjm6x2ln4794c0hjr4qrpvzc0000gn/T/ipykernel_20430/507627021.py:1: FutureWarning: The frame.append method is deprecated and will be removed from pandas in a future version. Use pandas.concat instead.\n",
      "  df_test = df_test.append(new_rows)\n"
     ]
    }
   ],
   "source": [
    "df_test = df_test.append(new_rows)"
   ]
  },
  {
   "cell_type": "code",
   "execution_count": 89,
   "id": "84678617",
   "metadata": {},
   "outputs": [
    {
     "data": {
      "text/html": [
       "<div>\n",
       "<style scoped>\n",
       "    .dataframe tbody tr th:only-of-type {\n",
       "        vertical-align: middle;\n",
       "    }\n",
       "\n",
       "    .dataframe tbody tr th {\n",
       "        vertical-align: top;\n",
       "    }\n",
       "\n",
       "    .dataframe thead th {\n",
       "        text-align: right;\n",
       "    }\n",
       "</style>\n",
       "<table border=\"1\" class=\"dataframe\">\n",
       "  <thead>\n",
       "    <tr style=\"text-align: right;\">\n",
       "      <th></th>\n",
       "      <th>image</th>\n",
       "      <th>age_approx</th>\n",
       "      <th>anatom_site_general</th>\n",
       "      <th>lesion_id</th>\n",
       "      <th>sex</th>\n",
       "    </tr>\n",
       "  </thead>\n",
       "  <tbody>\n",
       "    <tr>\n",
       "      <th>25328</th>\n",
       "      <td>ISIC_0073249</td>\n",
       "      <td>70.0</td>\n",
       "      <td>lower extremity</td>\n",
       "      <td>BCN_0001085</td>\n",
       "      <td>male</td>\n",
       "    </tr>\n",
       "    <tr>\n",
       "      <th>25329</th>\n",
       "      <td>ISIC_0073251</td>\n",
       "      <td>55.0</td>\n",
       "      <td>palms/soles</td>\n",
       "      <td>BCN_0002083</td>\n",
       "      <td>female</td>\n",
       "    </tr>\n",
       "    <tr>\n",
       "      <th>25330</th>\n",
       "      <td>ISIC_0073254</td>\n",
       "      <td>50.0</td>\n",
       "      <td>upper extremity</td>\n",
       "      <td>BCN_0001079</td>\n",
       "      <td>male</td>\n",
       "    </tr>\n",
       "    <tr>\n",
       "      <th>0</th>\n",
       "      <td>ISIC_0024470_1</td>\n",
       "      <td>60.0</td>\n",
       "      <td>upper extremity</td>\n",
       "      <td>HAM_0006220</td>\n",
       "      <td>male</td>\n",
       "    </tr>\n",
       "    <tr>\n",
       "      <th>1</th>\n",
       "      <td>ISIC_0073110_22</td>\n",
       "      <td>35.0</td>\n",
       "      <td>lower extremity</td>\n",
       "      <td>BCN_0000811</td>\n",
       "      <td>male</td>\n",
       "    </tr>\n",
       "  </tbody>\n",
       "</table>\n",
       "</div>"
      ],
      "text/plain": [
       "                 image  age_approx anatom_site_general    lesion_id     sex\n",
       "25328     ISIC_0073249        70.0     lower extremity  BCN_0001085    male\n",
       "25329     ISIC_0073251        55.0         palms/soles  BCN_0002083  female\n",
       "25330     ISIC_0073254        50.0     upper extremity  BCN_0001079    male\n",
       "0       ISIC_0024470_1        60.0     upper extremity  HAM_0006220    male\n",
       "1      ISIC_0073110_22        35.0     lower extremity  BCN_0000811    male"
      ]
     },
     "execution_count": 89,
     "metadata": {},
     "output_type": "execute_result"
    }
   ],
   "source": [
    "df_test.tail()"
   ]
  },
  {
   "cell_type": "code",
   "execution_count": 93,
   "id": "51895fdd",
   "metadata": {},
   "outputs": [
    {
     "data": {
      "text/html": [
       "<div>\n",
       "<style scoped>\n",
       "    .dataframe tbody tr th:only-of-type {\n",
       "        vertical-align: middle;\n",
       "    }\n",
       "\n",
       "    .dataframe tbody tr th {\n",
       "        vertical-align: top;\n",
       "    }\n",
       "\n",
       "    .dataframe thead th {\n",
       "        text-align: right;\n",
       "    }\n",
       "</style>\n",
       "<table border=\"1\" class=\"dataframe\">\n",
       "  <thead>\n",
       "    <tr style=\"text-align: right;\">\n",
       "      <th></th>\n",
       "      <th>image</th>\n",
       "      <th>age_approx</th>\n",
       "      <th>anatom_site_general</th>\n",
       "      <th>lesion_id</th>\n",
       "      <th>sex</th>\n",
       "    </tr>\n",
       "  </thead>\n",
       "  <tbody>\n",
       "    <tr>\n",
       "      <th>25236</th>\n",
       "      <td>ISIC_0073110</td>\n",
       "      <td>35.0</td>\n",
       "      <td>lower extremity</td>\n",
       "      <td>BCN_0000811</td>\n",
       "      <td>male</td>\n",
       "    </tr>\n",
       "  </tbody>\n",
       "</table>\n",
       "</div>"
      ],
      "text/plain": [
       "              image  age_approx anatom_site_general    lesion_id   sex\n",
       "25236  ISIC_0073110        35.0     lower extremity  BCN_0000811  male"
      ]
     },
     "execution_count": 93,
     "metadata": {},
     "output_type": "execute_result"
    }
   ],
   "source": [
    "df_test[df_test['image']=='ISIC_0073110']"
   ]
  }
 ],
 "metadata": {
  "kernelspec": {
   "display_name": "Python 3 (ipykernel)",
   "language": "python",
   "name": "python3"
  },
  "language_info": {
   "codemirror_mode": {
    "name": "ipython",
    "version": 3
   },
   "file_extension": ".py",
   "mimetype": "text/x-python",
   "name": "python",
   "nbconvert_exporter": "python",
   "pygments_lexer": "ipython3",
   "version": "3.10.6"
  },
  "toc": {
   "base_numbering": 1,
   "nav_menu": {},
   "number_sections": true,
   "sideBar": true,
   "skip_h1_title": false,
   "title_cell": "Table of Contents",
   "title_sidebar": "Contents",
   "toc_cell": false,
   "toc_position": {},
   "toc_section_display": true,
   "toc_window_display": false
  }
 },
 "nbformat": 4,
 "nbformat_minor": 5
}
